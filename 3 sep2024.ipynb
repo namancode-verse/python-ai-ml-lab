{
 "cells": [
  {
   "cell_type": "code",
   "execution_count": 13,
   "id": "7bcc7a4a-8e3b-43e8-8ab6-d21359829ac5",
   "metadata": {},
   "outputs": [
    {
     "name": "stdout",
     "output_type": "stream",
     "text": [
      "Sorted Heights: [38. 40. 40. 41. 42. 42. 45.]\n",
      "Sorted Student IDs: [1682 1023 5241 1671 4532 5202 6230]\n"
     ]
    }
   ],
   "source": [
    "import numpy as np\n",
    "\n",
    "# Sample student IDs and heights\n",
    "student_ids = np.array([1023, 5202, 6230, 1671, 1682, 5241, 4532])\n",
    "heights = np.array([40., 42., 45., 41., 38., 40., 42.0])\n",
    "\n",
    "# Combine student IDs and heights into a structured array\n",
    "data = np.array(list(zip(student_ids, heights)), dtype=[('student_id', 'int'), ('height', 'float')])\n",
    "\n",
    "# Sort the data by height in ascending order\n",
    "sorted_data = np.sort(data, order='height')\n",
    "\n",
    "# Extract sorted heights and student IDs\n",
    "sorted_heights = sorted_data['height']\n",
    "sorted_student_ids = sorted_data['student_id']\n",
    "\n",
    "# Print the sorted heights and student IDs separately\n",
    "print(\"Sorted Heights:\", sorted_heights)\n",
    "print(\"Sorted Student IDs:\", sorted_student_ids)"
   ]
  },
  {
   "cell_type": "code",
   "execution_count": 1,
   "id": "2f05b3e0-99ba-4ddf-9dc1-6b869a3adfb5",
   "metadata": {},
   "outputs": [],
   "source": [
    "import pandas as pd\n"
   ]
  },
  {
   "cell_type": "code",
   "execution_count": 7,
   "id": "7cb4682f-dee3-4aa5-94a9-597749fc86f9",
   "metadata": {},
   "outputs": [],
   "source": [
    "df=pd.read_csv(\"empdata.csv\")"
   ]
  },
  {
   "cell_type": "code",
   "execution_count": 9,
   "id": "909f7db6-0f60-4efc-8b2b-2979c26c9eb3",
   "metadata": {},
   "outputs": [
    {
     "data": {
      "text/html": [
       "<div>\n",
       "<style scoped>\n",
       "    .dataframe tbody tr th:only-of-type {\n",
       "        vertical-align: middle;\n",
       "    }\n",
       "\n",
       "    .dataframe tbody tr th {\n",
       "        vertical-align: top;\n",
       "    }\n",
       "\n",
       "    .dataframe thead th {\n",
       "        text-align: right;\n",
       "    }\n",
       "</style>\n",
       "<table border=\"1\" class=\"dataframe\">\n",
       "  <thead>\n",
       "    <tr style=\"text-align: right;\">\n",
       "      <th></th>\n",
       "      <th>Empid</th>\n",
       "      <th>Ename</th>\n",
       "      <th>Salary</th>\n",
       "      <th>DOJ</th>\n",
       "    </tr>\n",
       "  </thead>\n",
       "  <tbody>\n",
       "    <tr>\n",
       "      <th>0</th>\n",
       "      <td>1001</td>\n",
       "      <td>Ganesh</td>\n",
       "      <td>1000.00</td>\n",
       "      <td>10-10-2000</td>\n",
       "    </tr>\n",
       "    <tr>\n",
       "      <th>1</th>\n",
       "      <td>1002</td>\n",
       "      <td>Anil</td>\n",
       "      <td>23000.50</td>\n",
       "      <td>3/20/2002</td>\n",
       "    </tr>\n",
       "    <tr>\n",
       "      <th>2</th>\n",
       "      <td>1003</td>\n",
       "      <td>Gaurav</td>\n",
       "      <td>NaN</td>\n",
       "      <td>03-03-2002</td>\n",
       "    </tr>\n",
       "    <tr>\n",
       "      <th>3</th>\n",
       "      <td>1004</td>\n",
       "      <td>Hema Chandra</td>\n",
       "      <td>16500.50</td>\n",
       "      <td>09-10-2000</td>\n",
       "    </tr>\n",
       "    <tr>\n",
       "      <th>4</th>\n",
       "      <td>1005</td>\n",
       "      <td>Laxmi Prasanna</td>\n",
       "      <td>12000.75</td>\n",
       "      <td>10-08-2000</td>\n",
       "    </tr>\n",
       "    <tr>\n",
       "      <th>5</th>\n",
       "      <td>1006</td>\n",
       "      <td>Anant</td>\n",
       "      <td>9999.99</td>\n",
       "      <td>09-09-1999</td>\n",
       "    </tr>\n",
       "  </tbody>\n",
       "</table>\n",
       "</div>"
      ],
      "text/plain": [
       "   Empid           Ename    Salary         DOJ\n",
       "0   1001          Ganesh   1000.00  10-10-2000\n",
       "1   1002            Anil  23000.50   3/20/2002\n",
       "2   1003          Gaurav       NaN  03-03-2002\n",
       "3   1004    Hema Chandra  16500.50  09-10-2000\n",
       "4   1005  Laxmi Prasanna  12000.75  10-08-2000\n",
       "5   1006          Anant    9999.99  09-09-1999"
      ]
     },
     "execution_count": 9,
     "metadata": {},
     "output_type": "execute_result"
    }
   ],
   "source": [
    "df\n"
   ]
  },
  {
   "cell_type": "code",
   "execution_count": 11,
   "id": "4f2c2739-f567-4bab-b330-752e8344f0e6",
   "metadata": {},
   "outputs": [
    {
     "data": {
      "text/plain": [
       "Empid     0\n",
       "Ename     0\n",
       "Salary    1\n",
       "DOJ       0\n",
       "dtype: int64"
      ]
     },
     "execution_count": 11,
     "metadata": {},
     "output_type": "execute_result"
    }
   ],
   "source": [
    "df.isna().sum() "
   ]
  },
  {
   "cell_type": "code",
   "execution_count": 17,
   "id": "970c7d39-d2bc-4469-be1a-061e0faa4135",
   "metadata": {},
   "outputs": [
    {
     "name": "stdout",
     "output_type": "stream",
     "text": [
      "Empid     0\n",
      "Ename     0\n",
      "Salary    1\n",
      "DOJ       0\n",
      "dtype: int64\n"
     ]
    }
   ],
   "source": [
    "print(df.isna().sum())  # it will display that coloumn   coloumn values has how many null values"
   ]
  },
  {
   "cell_type": "code",
   "execution_count": 37,
   "id": "4fda255e-f37c-4426-9ff2-1a15cd70c9ea",
   "metadata": {},
   "outputs": [
    {
     "name": "stdout",
     "output_type": "stream",
     "text": [
      "   Empid           Ename    Salary         DOJ\n",
      "0   1001          Ganesh   1000.00  10-10-2000\n",
      "1   1002            Anil  23000.50   3/20/2002\n",
      "3   1004    Hema Chandra  16500.50  09-10-2000\n",
      "4   1005  Laxmi Prasanna  12000.75  10-08-2000\n",
      "5   1006          Anant    9999.99  09-09-1999\n"
     ]
    }
   ],
   "source": [
    "print(df.dropna(axis=0,inplace=False))  # it will not display the row which has null value ,if inplace=True then it will get "
   ]
  },
  {
   "cell_type": "code",
   "execution_count": 45,
   "id": "e174a005-5a66-4844-b874-f306edcee63a",
   "metadata": {},
   "outputs": [
    {
     "name": "stdout",
     "output_type": "stream",
     "text": [
      "   Empid           Ename    Salary         DOJ\n",
      "0   1001          Ganesh   1000.00  10-10-2000\n",
      "1   1002            Anil  23000.50   3/20/2002\n",
      "3   1004    Hema Chandra  16500.50  09-10-2000\n",
      "4   1005  Laxmi Prasanna  12000.75  10-08-2000\n",
      "5   1006          Anant    9999.99  09-09-1999\n"
     ]
    }
   ],
   "source": [
    "print(df) # there are no permanent change smade in this"
   ]
  }
 ],
 "metadata": {
  "kernelspec": {
   "display_name": "Python 3 (ipykernel)",
   "language": "python",
   "name": "python3"
  },
  "language_info": {
   "codemirror_mode": {
    "name": "ipython",
    "version": 3
   },
   "file_extension": ".py",
   "mimetype": "text/x-python",
   "name": "python",
   "nbconvert_exporter": "python",
   "pygments_lexer": "ipython3",
   "version": "3.12.4"
  }
 },
 "nbformat": 4,
 "nbformat_minor": 5
}
